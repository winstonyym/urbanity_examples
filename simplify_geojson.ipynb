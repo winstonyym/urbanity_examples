{
 "cells": [
  {
   "cell_type": "code",
   "execution_count": 9,
   "id": "d2f879db-dbc3-4cca-ad6d-3f23a297d22d",
   "metadata": {},
   "outputs": [],
   "source": [
    "import pandas as pd\n",
    "import geopandas as gpd\n",
    "import json\n",
    "import random\n",
    "import os"
   ]
  },
  {
   "cell_type": "code",
   "execution_count": 10,
   "id": "de8b6ea7-941b-4320-8953-8aacfcaee76a",
   "metadata": {},
   "outputs": [],
   "source": [
    "city_name = \"seattle\""
   ]
  },
  {
   "cell_type": "code",
   "execution_count": 11,
   "id": "ae236d2f-e2e5-4dbb-83f3-14660620233f",
   "metadata": {},
   "outputs": [],
   "source": [
    "city = gpd.read_file(f'./GUN/{city_name}100m.geojson')"
   ]
  },
  {
   "cell_type": "code",
   "execution_count": 12,
   "id": "a31e9777-f2c2-4b5b-b622-2adb7c4287ab",
   "metadata": {},
   "outputs": [],
   "source": [
    "city_df = pd.DataFrame(city.drop(columns = ['osmid','Node Density', 'Degree', 'Clustering', 'Clustering (Weighted)', 'Closeness Centrality', 'Eigenvector Centrality', 'PageRank', 'Katz Centrality','Betweenness Centrality', 'Street Length','x','y','geometry']))"
   ]
  },
  {
   "cell_type": "code",
   "execution_count": 13,
   "id": "dc8988e0-6baa-4f7c-90c8-76184ef7984f",
   "metadata": {},
   "outputs": [],
   "source": [
    "city_df['Counts'] = city_df['Counts'].astype('float')"
   ]
  },
  {
   "cell_type": "code",
   "execution_count": 14,
   "id": "86f7aecb-979d-402b-bb5c-a2b1a437c7bf",
   "metadata": {},
   "outputs": [],
   "source": [
    "normalized_city_df = (city_df-city_df.min())/(city_df.max()-city_df.min())"
   ]
  },
  {
   "cell_type": "code",
   "execution_count": 15,
   "id": "d1593282-06cb-4a8c-bc89-6ae746f24183",
   "metadata": {},
   "outputs": [],
   "source": [
    "if not os.path.exists(f\"../dashboard/data/{city_name}_density\"):\n",
    "   # Create a new directory because it does not exist\n",
    "   os.makedirs(f\"../dashboard/data/{city_name}_density\")"
   ]
  },
  {
   "cell_type": "code",
   "execution_count": 16,
   "id": "d8d38dd3-616d-4d88-be54-fdbbce847cb5",
   "metadata": {},
   "outputs": [],
   "source": [
    "for i, col in enumerate(normalized_city_df.columns):\n",
    "    myDict = {}\n",
    "    myDict[col] = list(random.sample(list(normalized_city_df.loc[:, col].values), 1000))\n",
    "    with open(f\"../dashboard/data/{city_name}_density/{i}.json\", \"w\") as outfile:\n",
    "        json.dump(myDict, outfile)"
   ]
  },
  {
   "cell_type": "code",
   "execution_count": null,
   "id": "b7019d4c-c6a4-414f-8555-717763554067",
   "metadata": {},
   "outputs": [],
   "source": []
  }
 ],
 "metadata": {
  "kernelspec": {
   "display_name": "urbanity",
   "language": "python",
   "name": "urbanity"
  },
  "language_info": {
   "codemirror_mode": {
    "name": "ipython",
    "version": 3
   },
   "file_extension": ".py",
   "mimetype": "text/x-python",
   "name": "python",
   "nbconvert_exporter": "python",
   "pygments_lexer": "ipython3",
   "version": "3.10.6"
  }
 },
 "nbformat": 4,
 "nbformat_minor": 5
}
